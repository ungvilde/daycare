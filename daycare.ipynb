{
 "cells": [
  {
   "cell_type": "code",
   "execution_count": 39,
   "id": "7bb819de-b8e8-4d34-8635-d3f0d9cd32b3",
   "metadata": {},
   "outputs": [],
   "source": [
    "import elfi\n",
    "import numpy as np\n",
    "import matplotlib.pyplot as plt\n",
    "import scipy.io as sio\n",
    "from daycare_new import *\n",
    "#from elfi.examples import daycare"
   ]
  },
  {
   "cell_type": "code",
   "execution_count": 40,
   "id": "3ca84375-1965-4bd4-9c6f-648baaf32b44",
   "metadata": {},
   "outputs": [],
   "source": [
    "#daycare_model = daycare.get_model()\n",
    "#elfi.draw(daycare_model)"
   ]
  },
  {
   "cell_type": "markdown",
   "id": "f188e008-6f8a-4ab4-8686-42382fd7e249",
   "metadata": {},
   "source": [
    "## Load the observed data"
   ]
  },
  {
   "cell_type": "code",
   "execution_count": 41,
   "id": "fe26ad99-a1e3-48fc-a5c0-e3e014f2ed66",
   "metadata": {},
   "outputs": [],
   "source": [
    "datafile = '/Users/vildehun/Documents/daycare/binaryRealData.mat'\n",
    "data_obs = sio.loadmat(datafile, squeeze_me=True)"
   ]
  },
  {
   "cell_type": "code",
   "execution_count": 42,
   "id": "d94d1421-c285-4bbb-94e8-67fe6c29ba6d",
   "metadata": {},
   "outputs": [
    {
     "name": "stdout",
     "output_type": "stream",
     "text": [
      "(33, 37) (33, 31)\n"
     ]
    }
   ],
   "source": [
    "y_obs = list(data_obs['data_epi'])\n",
    "n_obs_ls = list(data_obs['sample_sizes'])\n",
    "print(y_obs[0].shape, y_obs[1].shape)"
   ]
  },
  {
   "cell_type": "code",
   "execution_count": 43,
   "id": "0c3a1f83",
   "metadata": {},
   "outputs": [],
   "source": [
    "n_strains = y_obs[0].shape[0]\n",
    "n_dcc = len(y_obs)\n",
    "for dcc in range(n_dcc):\n",
    "    n_obs=y_obs[dcc].shape[0]\n",
    "    #y_obs[dcc] = np.reshape(y_obs[dcc], (1, n_obs, y_obs[dcc].shape[1]) )\n",
    "    y_obs[dcc]=np.expand_dims(y_obs[dcc].swapaxes(0, 1), axis=0)\n",
    "# TODO: need to reshape y_obs to account for batch_size dimension in simulator??"
   ]
  },
  {
   "cell_type": "code",
   "execution_count": 44,
   "id": "9f282549",
   "metadata": {},
   "outputs": [
    {
     "name": "stdout",
     "output_type": "stream",
     "text": [
      "(1, 37, 33) (1, 31, 33)\n"
     ]
    }
   ],
   "source": [
    "print(y_obs[0].shape, y_obs[1].shape)"
   ]
  },
  {
   "cell_type": "markdown",
   "id": "0c3ec828",
   "metadata": {},
   "source": [
    "## Testing new functions\n"
   ]
  },
  {
   "cell_type": "code",
   "execution_count": 45,
   "id": "7b6b4165",
   "metadata": {},
   "outputs": [],
   "source": [
    "t1, t2, t3 = 3.6, 0.6, 0.1\n",
    "n_obs=36\n",
    "testdata = daycare(t1, t2, t3)\n",
    "newtestdata = [testdata[:, dcc, :, :] for dcc in range(29)]"
   ]
  },
  {
   "cell_type": "code",
   "execution_count": 46,
   "id": "aa66cc44",
   "metadata": {},
   "outputs": [
    {
     "name": "stdout",
     "output_type": "stream",
     "text": [
      "(1, 29, 36, 33) 29 (1, 36, 33)\n"
     ]
    }
   ],
   "source": [
    "print(testdata.shape, len(newtestdata), newtestdata[0].shape)"
   ]
  },
  {
   "cell_type": "code",
   "execution_count": 47,
   "id": "d39dc831",
   "metadata": {},
   "outputs": [
    {
     "name": "stdout",
     "output_type": "stream",
     "text": [
      "test if summary statistics are the same:\n",
      " True True True True\n"
     ]
    }
   ],
   "source": [
    "print(\n",
    "    'test if summary statistics are the same:\\n',\n",
    "np.array_equal(ss_shannon(testdata), ss_shannon_new(newtestdata)),\n",
    "np.array_equal(ss_prevalence(testdata), ss_prevalence_new(newtestdata)),\n",
    "np.array_equal(ss_strains(testdata), ss_strains_new(newtestdata)),\n",
    "np.array_equal(ss_prevalence_multi(testdata), ss_prevalence_multi_new(newtestdata)),\n",
    ")\n"
   ]
  },
  {
   "cell_type": "code",
   "execution_count": 48,
   "id": "75d2668c",
   "metadata": {},
   "outputs": [],
   "source": [
    "data_sim = daycare_new(t1, t2, t3, n_obs_ls)\n"
   ]
  },
  {
   "cell_type": "code",
   "execution_count": 49,
   "id": "e42c1706",
   "metadata": {},
   "outputs": [
    {
     "name": "stdout",
     "output_type": "stream",
     "text": [
      "(1, 37, 33)\n",
      "(1, 31, 33)\n",
      "(1, 19, 33)\n",
      "(1, 30, 33)\n",
      "(1, 31, 33)\n",
      "(1, 22, 33)\n",
      "(1, 16, 33)\n",
      "(1, 23, 33)\n",
      "(1, 11, 33)\n",
      "(1, 11, 33)\n",
      "(1, 25, 33)\n",
      "(1, 28, 33)\n",
      "(1, 19, 33)\n",
      "(1, 21, 33)\n",
      "(1, 9, 33)\n",
      "(1, 7, 33)\n",
      "(1, 21, 33)\n",
      "(1, 23, 33)\n",
      "(1, 23, 33)\n",
      "(1, 31, 33)\n",
      "(1, 6, 33)\n",
      "(1, 30, 33)\n",
      "(1, 26, 33)\n",
      "(1, 21, 33)\n",
      "(1, 22, 33)\n",
      "(1, 16, 33)\n",
      "(1, 14, 33)\n",
      "(1, 15, 33)\n",
      "(1, 23, 33)\n"
     ]
    }
   ],
   "source": [
    "for dcc in range(len(data_sim)):\n",
    "    print(data_sim[dcc].shape)"
   ]
  },
  {
   "cell_type": "code",
   "execution_count": 50,
   "id": "b2924f6a",
   "metadata": {},
   "outputs": [
    {
     "name": "stdout",
     "output_type": "stream",
     "text": [
      "summary stats for each dcc \n",
      "shannon entropy:\n",
      " [[2.64675059 2.71291552 2.34195517 2.48273439 2.34396044 2.72835237\n",
      "  2.75110229 2.79972451 1.81848316 2.24503527 2.43841841 2.43369555\n",
      "  2.47624713 2.33416791 2.02532622 2.04319187 2.3457374  2.83148024\n",
      "  2.59860518 2.7278432  1.55958116 2.77705033 2.19240492 2.6941537\n",
      "  2.63133753 2.33937173 2.13839725 2.30565734 2.62156736]] \n",
      "number of strains:\n",
      " [[17. 17. 13. 15. 12. 17. 17. 18.  7. 10. 14. 14. 13. 13.  8.  8. 12. 18.\n",
      "  15. 18.  5. 19. 11. 16. 16. 11.  9. 11. 17.]] \n",
      "prevalence of infection in observed individuals:\n",
      " [[0.86486486 0.80645161 1.         0.86666667 0.67741935 0.81818182\n",
      "  1.         0.91304348 1.         0.81818182 0.84       0.78571429\n",
      "  0.78947368 0.9047619  0.88888889 1.         0.85714286 0.82608696\n",
      "  0.7826087  0.93548387 1.         0.83333333 0.84615385 0.80952381\n",
      "  0.95454545 0.8125     0.85714286 0.86666667 0.86956522]] \n",
      "prevalence of multiple strains among observed individuals:\n",
      " [[0.18918919 0.19354839 0.36842105 0.16666667 0.06451613 0.22727273\n",
      "  0.375      0.30434783 0.18181818 0.36363636 0.12       0.25\n",
      "  0.10526316 0.19047619 0.22222222 0.28571429 0.0952381  0.17391304\n",
      "  0.08695652 0.22580645 0.16666667 0.3        0.15384615 0.28571429\n",
      "  0.18181818 0.1875     0.07142857 0.33333333 0.17391304]]\n"
     ]
    }
   ],
   "source": [
    "print(\n",
    "    'summary stats for each dcc',\n",
    "    '\\nshannon entropy:\\n',\n",
    "    ss_shannon_new(data_sim),\n",
    "    '\\nnumber of strains:\\n',\n",
    "    ss_strains_new(data_sim),\n",
    "    '\\nprevalence of infection in observed individuals:\\n',\n",
    "    ss_prevalence_new(data_sim),\n",
    "    '\\nprevalence of multiple strains among observed individuals:\\n',\n",
    "    ss_prevalence_multi_new(data_sim)\n",
    ")\n"
   ]
  },
  {
   "cell_type": "code",
   "execution_count": 55,
   "id": "3e42c4f1",
   "metadata": {},
   "outputs": [],
   "source": [
    "ss_obs = [\n",
    "    ss_shannon_new(y_obs),\n",
    "    ss_strains_new(y_obs),\n",
    "    ss_prevalence_new(y_obs),\n",
    "    ss_prevalence_multi_new(y_obs)\n",
    "]\n",
    "\n",
    "ss=[ss_shannon_new(data_sim),\n",
    "    ss_strains_new(data_sim),\n",
    "    ss_prevalence_new(data_sim),\n",
    "    ss_prevalence_multi_new(data_sim)\n",
    "    ]"
   ]
  },
  {
   "cell_type": "code",
   "execution_count": 58,
   "id": "9359553e",
   "metadata": {},
   "outputs": [
    {
     "name": "stdout",
     "output_type": "stream",
     "text": [
      "(1, 29) (1, 29)\n"
     ]
    },
    {
     "data": {
      "text/plain": [
       "(4, 29)"
      ]
     },
     "execution_count": 58,
     "metadata": {},
     "output_type": "execute_result"
    }
   ],
   "source": [
    "print(ss_obs[0].shape, ss[0].shape)\n",
    "np.vstack(ss).shape"
   ]
  },
  {
   "cell_type": "code",
   "execution_count": null,
   "id": "ec59fa2e",
   "metadata": {},
   "outputs": [],
   "source": [
    "distance(ss, observed=ss_obs)"
   ]
  },
  {
   "cell_type": "markdown",
   "id": "ecf4ae04",
   "metadata": {},
   "source": [
    "## Setting up the full model\n"
   ]
  },
  {
   "cell_type": "code",
   "execution_count": null,
   "id": "5230307c",
   "metadata": {},
   "outputs": [],
   "source": [
    "seed=30102024"
   ]
  },
  {
   "cell_type": "code",
   "execution_count": null,
   "id": "77ff7458",
   "metadata": {},
   "outputs": [
    {
     "data": {
      "image/svg+xml": [
       "<?xml version=\"1.0\" encoding=\"UTF-8\" standalone=\"no\"?>\n",
       "<!DOCTYPE svg PUBLIC \"-//W3C//DTD SVG 1.1//EN\"\n",
       " \"http://www.w3.org/Graphics/SVG/1.1/DTD/svg11.dtd\">\n",
       "<!-- Generated by graphviz version 12.1.2 (20240928.0832)\n",
       " -->\n",
       "<!-- Pages: 1 -->\n",
       "<svg width=\"400pt\" height=\"440pt\"\n",
       " viewBox=\"0.00 0.00 400.04 440.15\" xmlns=\"http://www.w3.org/2000/svg\" xmlns:xlink=\"http://www.w3.org/1999/xlink\">\n",
       "<g id=\"graph0\" class=\"graph\" transform=\"scale(1 1) rotate(0) translate(4 436.15)\">\n",
       "<polygon fill=\"white\" stroke=\"none\" points=\"-4,4 -4,-436.15 396.04,-436.15 396.04,4 -4,4\"/>\n",
       "<!-- t1 -->\n",
       "<g id=\"node1\" class=\"node\">\n",
       "<title>t1</title>\n",
       "<ellipse fill=\"none\" stroke=\"black\" cx=\"150.16\" cy=\"-414.07\" rx=\"18.08\" ry=\"18.08\"/>\n",
       "<text text-anchor=\"middle\" x=\"150.16\" y=\"-409.02\" font-family=\"Times,serif\" font-size=\"14.00\">t1</text>\n",
       "</g>\n",
       "<!-- DCC -->\n",
       "<g id=\"node4\" class=\"node\">\n",
       "<title>DCC</title>\n",
       "<ellipse fill=\"#cccccc\" stroke=\"black\" cx=\"204.16\" cy=\"-330.13\" rx=\"29.86\" ry=\"29.86\"/>\n",
       "<text text-anchor=\"middle\" x=\"204.16\" y=\"-325.08\" font-family=\"Times,serif\" font-size=\"14.00\">DCC</text>\n",
       "</g>\n",
       "<!-- t1&#45;&gt;DCC -->\n",
       "<g id=\"edge1\" class=\"edge\">\n",
       "<title>t1&#45;&gt;DCC</title>\n",
       "<path fill=\"none\" stroke=\"black\" d=\"M159.82,-398.42C165.93,-389.14 174.1,-376.74 181.77,-365.11\"/>\n",
       "<polygon fill=\"black\" stroke=\"black\" points=\"184.61,-367.15 187.2,-356.87 178.77,-363.3 184.61,-367.15\"/>\n",
       "</g>\n",
       "<!-- t2 -->\n",
       "<g id=\"node2\" class=\"node\">\n",
       "<title>t2</title>\n",
       "<ellipse fill=\"none\" stroke=\"black\" cx=\"204.16\" cy=\"-414.07\" rx=\"18.08\" ry=\"18.08\"/>\n",
       "<text text-anchor=\"middle\" x=\"204.16\" y=\"-409.02\" font-family=\"Times,serif\" font-size=\"14.00\">t2</text>\n",
       "</g>\n",
       "<!-- t2&#45;&gt;DCC -->\n",
       "<g id=\"edge2\" class=\"edge\">\n",
       "<title>t2&#45;&gt;DCC</title>\n",
       "<path fill=\"none\" stroke=\"black\" d=\"M204.16,-395.69C204.16,-388.65 204.16,-380.2 204.16,-371.77\"/>\n",
       "<polygon fill=\"black\" stroke=\"black\" points=\"207.66,-371.93 204.16,-361.93 200.66,-371.93 207.66,-371.93\"/>\n",
       "</g>\n",
       "<!-- t3 -->\n",
       "<g id=\"node3\" class=\"node\">\n",
       "<title>t3</title>\n",
       "<ellipse fill=\"none\" stroke=\"black\" cx=\"258.16\" cy=\"-414.07\" rx=\"18.08\" ry=\"18.08\"/>\n",
       "<text text-anchor=\"middle\" x=\"258.16\" y=\"-409.02\" font-family=\"Times,serif\" font-size=\"14.00\">t3</text>\n",
       "</g>\n",
       "<!-- t3&#45;&gt;DCC -->\n",
       "<g id=\"edge3\" class=\"edge\">\n",
       "<title>t3&#45;&gt;DCC</title>\n",
       "<path fill=\"none\" stroke=\"black\" d=\"M248.51,-398.42C242.39,-389.14 234.22,-376.74 226.56,-365.11\"/>\n",
       "<polygon fill=\"black\" stroke=\"black\" points=\"229.55,-363.3 221.13,-356.87 223.71,-367.15 229.55,-363.3\"/>\n",
       "</g>\n",
       "<!-- Shannon -->\n",
       "<g id=\"node5\" class=\"node\">\n",
       "<title>Shannon</title>\n",
       "<ellipse fill=\"#cccccc\" stroke=\"black\" cx=\"43.16\" cy=\"-213.43\" rx=\"43.16\" ry=\"43.16\"/>\n",
       "<text text-anchor=\"middle\" x=\"43.16\" y=\"-208.38\" font-family=\"Times,serif\" font-size=\"14.00\">Shannon</text>\n",
       "</g>\n",
       "<!-- DCC&#45;&gt;Shannon -->\n",
       "<g id=\"edge4\" class=\"edge\">\n",
       "<title>DCC&#45;&gt;Shannon</title>\n",
       "<path fill=\"none\" stroke=\"black\" d=\"M178,-315.75C155.23,-303.6 121.8,-284.54 95.16,-264.27 90.55,-260.77 85.91,-256.9 81.4,-252.91\"/>\n",
       "<polygon fill=\"black\" stroke=\"black\" points=\"83.78,-250.35 74.04,-246.19 79.06,-255.52 83.78,-250.35\"/>\n",
       "</g>\n",
       "<!-- n_strains -->\n",
       "<g id=\"node6\" class=\"node\">\n",
       "<title>n_strains</title>\n",
       "<ellipse fill=\"#cccccc\" stroke=\"black\" cx=\"148.16\" cy=\"-213.43\" rx=\"44.19\" ry=\"44.19\"/>\n",
       "<text text-anchor=\"middle\" x=\"148.16\" y=\"-208.38\" font-family=\"Times,serif\" font-size=\"14.00\">n_strains</text>\n",
       "</g>\n",
       "<!-- DCC&#45;&gt;n_strains -->\n",
       "<g id=\"edge5\" class=\"edge\">\n",
       "<title>DCC&#45;&gt;n_strains</title>\n",
       "<path fill=\"none\" stroke=\"black\" d=\"M191.31,-302.81C185.65,-291.22 178.81,-277.2 172.26,-263.78\"/>\n",
       "<polygon fill=\"black\" stroke=\"black\" points=\"175.52,-262.5 167.99,-255.05 169.23,-265.57 175.52,-262.5\"/>\n",
       "</g>\n",
       "<!-- prevalence -->\n",
       "<g id=\"node7\" class=\"node\">\n",
       "<title>prevalence</title>\n",
       "<ellipse fill=\"#cccccc\" stroke=\"black\" cx=\"261.16\" cy=\"-213.43\" rx=\"50.84\" ry=\"50.84\"/>\n",
       "<text text-anchor=\"middle\" x=\"261.16\" y=\"-208.38\" font-family=\"Times,serif\" font-size=\"14.00\">prevalence</text>\n",
       "</g>\n",
       "<!-- DCC&#45;&gt;prevalence -->\n",
       "<g id=\"edge6\" class=\"edge\">\n",
       "<title>DCC&#45;&gt;prevalence</title>\n",
       "<path fill=\"none\" stroke=\"black\" d=\"M217.24,-302.81C222.17,-292.89 227.98,-281.19 233.74,-269.61\"/>\n",
       "<polygon fill=\"black\" stroke=\"black\" points=\"236.77,-271.38 238.08,-260.87 230.5,-268.27 236.77,-271.38\"/>\n",
       "</g>\n",
       "<!-- multi -->\n",
       "<g id=\"node8\" class=\"node\">\n",
       "<title>multi</title>\n",
       "<ellipse fill=\"#cccccc\" stroke=\"black\" cx=\"361.16\" cy=\"-213.43\" rx=\"30.88\" ry=\"30.88\"/>\n",
       "<text text-anchor=\"middle\" x=\"361.16\" y=\"-208.38\" font-family=\"Times,serif\" font-size=\"14.00\">multi</text>\n",
       "</g>\n",
       "<!-- DCC&#45;&gt;multi -->\n",
       "<g id=\"edge7\" class=\"edge\">\n",
       "<title>DCC&#45;&gt;multi</title>\n",
       "<path fill=\"none\" stroke=\"black\" d=\"M231.57,-317.64C256.55,-306.35 293.64,-287.47 321.16,-264.27 326.73,-259.58 332.07,-254.02 336.94,-248.34\"/>\n",
       "<polygon fill=\"black\" stroke=\"black\" points=\"339.63,-250.58 343.2,-240.61 334.19,-246.17 339.63,-250.58\"/>\n",
       "</g>\n",
       "<!-- d -->\n",
       "<g id=\"node9\" class=\"node\">\n",
       "<title>d</title>\n",
       "<ellipse fill=\"none\" stroke=\"black\" cx=\"204.16\" cy=\"-108.59\" rx=\"18\" ry=\"18\"/>\n",
       "<text text-anchor=\"middle\" x=\"204.16\" y=\"-103.54\" font-family=\"Times,serif\" font-size=\"14.00\">d</text>\n",
       "</g>\n",
       "<!-- Shannon&#45;&gt;d -->\n",
       "<g id=\"edge8\" class=\"edge\">\n",
       "<title>Shannon&#45;&gt;d</title>\n",
       "<path fill=\"none\" stroke=\"black\" d=\"M72.57,-181.22C79.61,-174.62 87.36,-168.02 95.16,-162.59 121.01,-144.59 153.9,-129.52 176.76,-120.1\"/>\n",
       "<polygon fill=\"black\" stroke=\"black\" points=\"178.03,-123.37 186,-116.4 175.42,-116.87 178.03,-123.37\"/>\n",
       "</g>\n",
       "<!-- n_strains&#45;&gt;d -->\n",
       "<g id=\"edge9\" class=\"edge\">\n",
       "<title>n_strains&#45;&gt;d</title>\n",
       "<path fill=\"none\" stroke=\"black\" d=\"M169.01,-174.14C176.16,-161.02 183.96,-146.68 190.4,-134.86\"/>\n",
       "<polygon fill=\"black\" stroke=\"black\" points=\"193.44,-136.6 195.15,-126.14 187.29,-133.25 193.44,-136.6\"/>\n",
       "</g>\n",
       "<!-- prevalence&#45;&gt;d -->\n",
       "<g id=\"edge10\" class=\"edge\">\n",
       "<title>prevalence&#45;&gt;d</title>\n",
       "<path fill=\"none\" stroke=\"black\" d=\"M236.82,-168.52C230.36,-156.85 223.6,-144.66 217.92,-134.41\"/>\n",
       "<polygon fill=\"black\" stroke=\"black\" points=\"221.09,-132.91 213.18,-125.86 214.96,-136.3 221.09,-132.91\"/>\n",
       "</g>\n",
       "<!-- multi&#45;&gt;d -->\n",
       "<g id=\"edge11\" class=\"edge\">\n",
       "<title>multi&#45;&gt;d</title>\n",
       "<path fill=\"none\" stroke=\"black\" d=\"M344.47,-187.04C337.95,-178.49 329.93,-169.39 321.16,-162.59 294.09,-141.59 257.36,-126.7 232.33,-118.16\"/>\n",
       "<polygon fill=\"black\" stroke=\"black\" points=\"233.43,-114.84 222.83,-115.05 231.25,-121.49 233.43,-114.84\"/>\n",
       "</g>\n",
       "<!-- logd -->\n",
       "<g id=\"node10\" class=\"node\">\n",
       "<title>logd</title>\n",
       "<ellipse fill=\"none\" stroke=\"black\" cx=\"204.16\" cy=\"-27.3\" rx=\"27.3\" ry=\"27.3\"/>\n",
       "<text text-anchor=\"middle\" x=\"204.16\" y=\"-22.25\" font-family=\"Times,serif\" font-size=\"14.00\">logd</text>\n",
       "</g>\n",
       "<!-- d&#45;&gt;logd -->\n",
       "<g id=\"edge12\" class=\"edge\">\n",
       "<title>d&#45;&gt;logd</title>\n",
       "<path fill=\"none\" stroke=\"black\" d=\"M204.16,-90.39C204.16,-83.25 204.16,-74.66 204.16,-66.18\"/>\n",
       "<polygon fill=\"black\" stroke=\"black\" points=\"207.66,-66.34 204.16,-56.34 200.66,-66.34 207.66,-66.34\"/>\n",
       "</g>\n",
       "</g>\n",
       "</svg>\n"
      ],
      "text/plain": [
       "<graphviz.graphs.Digraph at 0x176592a90>"
      ]
     },
     "execution_count": 26,
     "metadata": {},
     "output_type": "execute_result"
    }
   ],
   "source": [
    "daycare_model = get_model_new(true_params = [3.6, 0.6, 0.1], n_obs=n_obs_ls)\n",
    "elfi.draw(daycare_model)"
   ]
  },
  {
   "cell_type": "code",
   "execution_count": null,
   "id": "9485b618",
   "metadata": {},
   "outputs": [],
   "source": [
    "rej = elfi.Rejection(daycare_model['d'], batch_size=10, seed=seed) # why 'd'?\n",
    "N = 10\n",
    "\n"
   ]
  },
  {
   "cell_type": "code",
   "execution_count": null,
   "id": "50841e68",
   "metadata": {},
   "outputs": [
    {
     "ename": "ValueError",
     "evalue": "In executing node 'Shannon': could not broadcast input array from shape (10,1) into shape (10,).",
     "output_type": "error",
     "traceback": [
      "\u001b[0;31m---------------------------------------------------------------------------\u001b[0m",
      "\u001b[0;31mValueError\u001b[0m                                Traceback (most recent call last)",
      "File \u001b[0;32m~/miniconda3/envs/elfi/lib/python3.9/site-packages/elfi/executor.py:70\u001b[0m, in \u001b[0;36mExecutor.execute\u001b[0;34m(cls, G)\u001b[0m\n\u001b[1;32m     69\u001b[0m \u001b[38;5;28;01mtry\u001b[39;00m:\n\u001b[0;32m---> 70\u001b[0m     G\u001b[38;5;241m.\u001b[39mnodes[node]\u001b[38;5;241m.\u001b[39mupdate(\u001b[38;5;28;43mcls\u001b[39;49m\u001b[38;5;241;43m.\u001b[39;49m\u001b[43m_run\u001b[49m\u001b[43m(\u001b[49m\u001b[43mop\u001b[49m\u001b[43m,\u001b[49m\u001b[43m \u001b[49m\u001b[43mnode\u001b[49m\u001b[43m,\u001b[49m\u001b[43m \u001b[49m\u001b[43mG\u001b[49m\u001b[43m)\u001b[49m)\n\u001b[1;32m     71\u001b[0m     \u001b[38;5;28;01mdel\u001b[39;00m G\u001b[38;5;241m.\u001b[39mnodes[node][\u001b[38;5;124m'\u001b[39m\u001b[38;5;124moperation\u001b[39m\u001b[38;5;124m'\u001b[39m]\n",
      "File \u001b[0;32m~/miniconda3/envs/elfi/lib/python3.9/site-packages/elfi/executor.py:158\u001b[0m, in \u001b[0;36mExecutor._run\u001b[0;34m(fn, node, G)\u001b[0m\n\u001b[1;32m    156\u001b[0m args \u001b[38;5;241m=\u001b[39m [a[\u001b[38;5;241m1\u001b[39m] \u001b[38;5;28;01mfor\u001b[39;00m a \u001b[38;5;129;01min\u001b[39;00m \u001b[38;5;28msorted\u001b[39m(args, key\u001b[38;5;241m=\u001b[39mitemgetter(\u001b[38;5;241m0\u001b[39m))]\n\u001b[0;32m--> 158\u001b[0m output_dict \u001b[38;5;241m=\u001b[39m {\u001b[38;5;124m'\u001b[39m\u001b[38;5;124moutput\u001b[39m\u001b[38;5;124m'\u001b[39m: \u001b[43mfn\u001b[49m\u001b[43m(\u001b[49m\u001b[38;5;241;43m*\u001b[39;49m\u001b[43margs\u001b[49m\u001b[43m,\u001b[49m\u001b[43m \u001b[49m\u001b[38;5;241;43m*\u001b[39;49m\u001b[38;5;241;43m*\u001b[39;49m\u001b[43mkwargs\u001b[49m\u001b[43m)\u001b[49m}\n\u001b[1;32m    159\u001b[0m \u001b[38;5;28;01mreturn\u001b[39;00m output_dict\n",
      "File \u001b[0;32m~/Documents/daycare/daycare_new.py:273\u001b[0m, in \u001b[0;36mss_shannon_new\u001b[0;34m(data)\u001b[0m\n\u001b[1;32m    271\u001b[0m     proportions[dcc] \u001b[38;5;241m=\u001b[39m temp\n\u001b[0;32m--> 273\u001b[0m     \u001b[43mshannon\u001b[49m\u001b[43m[\u001b[49m\u001b[43m:\u001b[49m\u001b[43m,\u001b[49m\u001b[43m \u001b[49m\u001b[43mdcc\u001b[49m\u001b[43m]\u001b[49m \u001b[38;5;241m=\u001b[39m (\u001b[38;5;241m-\u001b[39mnp\u001b[38;5;241m.\u001b[39msum(proportions[dcc] \u001b[38;5;241m*\u001b[39m np\u001b[38;5;241m.\u001b[39mlog(proportions[dcc]), axis\u001b[38;5;241m=\u001b[39m\u001b[38;5;241m2\u001b[39m)) \u001b[38;5;66;03m# (batch_size, 1)\u001b[39;00m\n\u001b[1;32m    275\u001b[0m \u001b[38;5;28;01mreturn\u001b[39;00m shannon\n",
      "\u001b[0;31mValueError\u001b[0m: could not broadcast input array from shape (10,1) into shape (10,)",
      "\nDuring handling of the above exception, another exception occurred:\n",
      "\u001b[0;31mValueError\u001b[0m                                Traceback (most recent call last)",
      "Cell \u001b[0;32mIn[30], line 1\u001b[0m\n\u001b[0;32m----> 1\u001b[0m result \u001b[38;5;241m=\u001b[39m \u001b[43mrej\u001b[49m\u001b[38;5;241;43m.\u001b[39;49m\u001b[43msample\u001b[49m\u001b[43m(\u001b[49m\u001b[43mN\u001b[49m\u001b[43m,\u001b[49m\u001b[43m \u001b[49m\u001b[43mquantile\u001b[49m\u001b[38;5;241;43m=\u001b[39;49m\u001b[38;5;241;43m0.01\u001b[39;49m\u001b[43m)\u001b[49m\n",
      "File \u001b[0;32m~/miniconda3/envs/elfi/lib/python3.9/site-packages/elfi/methods/inference/samplers.py:45\u001b[0m, in \u001b[0;36mSampler.sample\u001b[0;34m(self, n_samples, *args, **kwargs)\u001b[0m\n\u001b[1;32m     43\u001b[0m bar \u001b[38;5;241m=\u001b[39m kwargs\u001b[38;5;241m.\u001b[39mpop(\u001b[38;5;124m'\u001b[39m\u001b[38;5;124mbar\u001b[39m\u001b[38;5;124m'\u001b[39m, \u001b[38;5;28;01mTrue\u001b[39;00m)\n\u001b[1;32m     44\u001b[0m \u001b[38;5;28mself\u001b[39m\u001b[38;5;241m.\u001b[39mbar \u001b[38;5;241m=\u001b[39m bar\n\u001b[0;32m---> 45\u001b[0m \u001b[38;5;28;01mreturn\u001b[39;00m \u001b[38;5;28;43mself\u001b[39;49m\u001b[38;5;241;43m.\u001b[39;49m\u001b[43minfer\u001b[49m\u001b[43m(\u001b[49m\u001b[43mn_samples\u001b[49m\u001b[43m,\u001b[49m\u001b[43m \u001b[49m\u001b[38;5;241;43m*\u001b[39;49m\u001b[43margs\u001b[49m\u001b[43m,\u001b[49m\u001b[43m \u001b[49m\u001b[43mbar\u001b[49m\u001b[38;5;241;43m=\u001b[39;49m\u001b[43mbar\u001b[49m\u001b[43m,\u001b[49m\u001b[43m \u001b[49m\u001b[38;5;241;43m*\u001b[39;49m\u001b[38;5;241;43m*\u001b[39;49m\u001b[43mkwargs\u001b[49m\u001b[43m)\u001b[49m\n",
      "File \u001b[0;32m~/miniconda3/envs/elfi/lib/python3.9/site-packages/elfi/methods/inference/parameter_inference.py:248\u001b[0m, in \u001b[0;36mParameterInference.infer\u001b[0;34m(self, vis, bar, *args, **kwargs)\u001b[0m\n\u001b[1;32m    245\u001b[0m \u001b[38;5;28mself\u001b[39m\u001b[38;5;241m.\u001b[39mset_objective(\u001b[38;5;241m*\u001b[39margs, \u001b[38;5;241m*\u001b[39m\u001b[38;5;241m*\u001b[39mkwargs)\n\u001b[1;32m    247\u001b[0m \u001b[38;5;28;01mwhile\u001b[39;00m \u001b[38;5;129;01mnot\u001b[39;00m \u001b[38;5;28mself\u001b[39m\u001b[38;5;241m.\u001b[39mfinished:\n\u001b[0;32m--> 248\u001b[0m     \u001b[38;5;28;43mself\u001b[39;49m\u001b[38;5;241;43m.\u001b[39;49m\u001b[43miterate\u001b[49m\u001b[43m(\u001b[49m\u001b[43m)\u001b[49m\n\u001b[1;32m    249\u001b[0m     \u001b[38;5;28;01mif\u001b[39;00m vis:\n\u001b[1;32m    250\u001b[0m         \u001b[38;5;28mself\u001b[39m\u001b[38;5;241m.\u001b[39mplot_state(interactive\u001b[38;5;241m=\u001b[39m\u001b[38;5;28;01mTrue\u001b[39;00m, \u001b[38;5;241m*\u001b[39m\u001b[38;5;241m*\u001b[39mvis_opt)\n",
      "File \u001b[0;32m~/miniconda3/envs/elfi/lib/python3.9/site-packages/elfi/methods/inference/parameter_inference.py:290\u001b[0m, in \u001b[0;36mParameterInference.iterate\u001b[0;34m(self)\u001b[0m\n\u001b[1;32m    287\u001b[0m     \u001b[38;5;28mself\u001b[39m\u001b[38;5;241m.\u001b[39mbatches\u001b[38;5;241m.\u001b[39msubmit(next_batch)\n\u001b[1;32m    289\u001b[0m \u001b[38;5;66;03m# Handle the next ready batch in succession\u001b[39;00m\n\u001b[0;32m--> 290\u001b[0m batch, batch_index \u001b[38;5;241m=\u001b[39m \u001b[38;5;28;43mself\u001b[39;49m\u001b[38;5;241;43m.\u001b[39;49m\u001b[43mbatches\u001b[49m\u001b[38;5;241;43m.\u001b[39;49m\u001b[43mwait_next\u001b[49m\u001b[43m(\u001b[49m\u001b[43m)\u001b[49m\n\u001b[1;32m    291\u001b[0m logger\u001b[38;5;241m.\u001b[39mdebug(\u001b[38;5;124m'\u001b[39m\u001b[38;5;124mReceived batch \u001b[39m\u001b[38;5;132;01m%d\u001b[39;00m\u001b[38;5;124m'\u001b[39m \u001b[38;5;241m%\u001b[39m batch_index)\n\u001b[1;32m    292\u001b[0m \u001b[38;5;28mself\u001b[39m\u001b[38;5;241m.\u001b[39mupdate(batch, batch_index)\n",
      "File \u001b[0;32m~/miniconda3/envs/elfi/lib/python3.9/site-packages/elfi/client.py:178\u001b[0m, in \u001b[0;36mBatchHandler.wait_next\u001b[0;34m(self)\u001b[0m\n\u001b[1;32m    175\u001b[0m     \u001b[38;5;28;01mraise\u001b[39;00m \u001b[38;5;167;01mValueError\u001b[39;00m(\u001b[38;5;124m'\u001b[39m\u001b[38;5;124mCannot wait for a batch, no batches currently submitted\u001b[39m\u001b[38;5;124m'\u001b[39m)\n\u001b[1;32m    177\u001b[0m batch_index, task_id \u001b[38;5;241m=\u001b[39m \u001b[38;5;28mself\u001b[39m\u001b[38;5;241m.\u001b[39m_pending_batches\u001b[38;5;241m.\u001b[39mpopitem(last\u001b[38;5;241m=\u001b[39m\u001b[38;5;28;01mFalse\u001b[39;00m)\n\u001b[0;32m--> 178\u001b[0m batch \u001b[38;5;241m=\u001b[39m \u001b[38;5;28;43mself\u001b[39;49m\u001b[38;5;241;43m.\u001b[39;49m\u001b[43mclient\u001b[49m\u001b[38;5;241;43m.\u001b[39;49m\u001b[43mget_result\u001b[49m\u001b[43m(\u001b[49m\u001b[43mtask_id\u001b[49m\u001b[43m)\u001b[49m\n\u001b[1;32m    179\u001b[0m logger\u001b[38;5;241m.\u001b[39mdebug(\u001b[38;5;124m'\u001b[39m\u001b[38;5;124mReceived batch \u001b[39m\u001b[38;5;132;01m{}\u001b[39;00m\u001b[38;5;124m'\u001b[39m\u001b[38;5;241m.\u001b[39mformat(batch_index))\n\u001b[1;32m    181\u001b[0m \u001b[38;5;28mself\u001b[39m\u001b[38;5;241m.\u001b[39mcontext\u001b[38;5;241m.\u001b[39mcallback(batch, batch_index)\n",
      "File \u001b[0;32m~/miniconda3/envs/elfi/lib/python3.9/site-packages/elfi/clients/native.py:65\u001b[0m, in \u001b[0;36mClient.get_result\u001b[0;34m(self, task_id)\u001b[0m\n\u001b[1;32m     56\u001b[0m \u001b[38;5;250m\u001b[39m\u001b[38;5;124;03m\"\"\"Return the result from task identified by `task_id` when it arrives.\u001b[39;00m\n\u001b[1;32m     57\u001b[0m \n\u001b[1;32m     58\u001b[0m \u001b[38;5;124;03mParameters\u001b[39;00m\n\u001b[0;32m   (...)\u001b[0m\n\u001b[1;32m     62\u001b[0m \n\u001b[1;32m     63\u001b[0m \u001b[38;5;124;03m\"\"\"\u001b[39;00m\n\u001b[1;32m     64\u001b[0m kallable, args, kwargs \u001b[38;5;241m=\u001b[39m \u001b[38;5;28mself\u001b[39m\u001b[38;5;241m.\u001b[39mtasks\u001b[38;5;241m.\u001b[39mpop(task_id)\n\u001b[0;32m---> 65\u001b[0m \u001b[38;5;28;01mreturn\u001b[39;00m \u001b[43mkallable\u001b[49m\u001b[43m(\u001b[49m\u001b[38;5;241;43m*\u001b[39;49m\u001b[43margs\u001b[49m\u001b[43m,\u001b[49m\u001b[43m \u001b[49m\u001b[38;5;241;43m*\u001b[39;49m\u001b[38;5;241;43m*\u001b[39;49m\u001b[43mkwargs\u001b[49m\u001b[43m)\u001b[49m\n",
      "File \u001b[0;32m~/miniconda3/envs/elfi/lib/python3.9/site-packages/elfi/executor.py:73\u001b[0m, in \u001b[0;36mExecutor.execute\u001b[0;34m(cls, G)\u001b[0m\n\u001b[1;32m     71\u001b[0m         \u001b[38;5;28;01mdel\u001b[39;00m G\u001b[38;5;241m.\u001b[39mnodes[node][\u001b[38;5;124m'\u001b[39m\u001b[38;5;124moperation\u001b[39m\u001b[38;5;124m'\u001b[39m]\n\u001b[1;32m     72\u001b[0m     \u001b[38;5;28;01mexcept\u001b[39;00m \u001b[38;5;167;01mException\u001b[39;00m \u001b[38;5;28;01mas\u001b[39;00m exc:\n\u001b[0;32m---> 73\u001b[0m         \u001b[38;5;28;01mraise\u001b[39;00m exc\u001b[38;5;241m.\u001b[39m\u001b[38;5;18m__class__\u001b[39m(\u001b[38;5;124m\"\u001b[39m\u001b[38;5;124mIn executing node \u001b[39m\u001b[38;5;124m'\u001b[39m\u001b[38;5;132;01m{}\u001b[39;00m\u001b[38;5;124m'\u001b[39m\u001b[38;5;124m: \u001b[39m\u001b[38;5;132;01m{}\u001b[39;00m\u001b[38;5;124m.\u001b[39m\u001b[38;5;124m\"\u001b[39m\n\u001b[1;32m     74\u001b[0m                             \u001b[38;5;241m.\u001b[39mformat(node, exc))\u001b[38;5;241m.\u001b[39mwith_traceback(exc\u001b[38;5;241m.\u001b[39m__traceback__)\n\u001b[1;32m     76\u001b[0m \u001b[38;5;28;01melif\u001b[39;00m \u001b[38;5;124m'\u001b[39m\u001b[38;5;124moutput\u001b[39m\u001b[38;5;124m'\u001b[39m \u001b[38;5;129;01mnot\u001b[39;00m \u001b[38;5;129;01min\u001b[39;00m attr:\n\u001b[1;32m     77\u001b[0m     \u001b[38;5;28;01mraise\u001b[39;00m \u001b[38;5;167;01mValueError\u001b[39;00m(\u001b[38;5;124m'\u001b[39m\u001b[38;5;124mGenerative graph has no op or output present for node \u001b[39m\u001b[38;5;124m'\u001b[39m\n\u001b[1;32m     78\u001b[0m                      \u001b[38;5;124m'\u001b[39m\u001b[38;5;132;01m{}\u001b[39;00m\u001b[38;5;124m'\u001b[39m\u001b[38;5;241m.\u001b[39mformat(node))\n",
      "File \u001b[0;32m~/miniconda3/envs/elfi/lib/python3.9/site-packages/elfi/executor.py:70\u001b[0m, in \u001b[0;36mExecutor.execute\u001b[0;34m(cls, G)\u001b[0m\n\u001b[1;32m     68\u001b[0m op \u001b[38;5;241m=\u001b[39m attr[\u001b[38;5;124m'\u001b[39m\u001b[38;5;124moperation\u001b[39m\u001b[38;5;124m'\u001b[39m]\n\u001b[1;32m     69\u001b[0m \u001b[38;5;28;01mtry\u001b[39;00m:\n\u001b[0;32m---> 70\u001b[0m     G\u001b[38;5;241m.\u001b[39mnodes[node]\u001b[38;5;241m.\u001b[39mupdate(\u001b[38;5;28;43mcls\u001b[39;49m\u001b[38;5;241;43m.\u001b[39;49m\u001b[43m_run\u001b[49m\u001b[43m(\u001b[49m\u001b[43mop\u001b[49m\u001b[43m,\u001b[49m\u001b[43m \u001b[49m\u001b[43mnode\u001b[49m\u001b[43m,\u001b[49m\u001b[43m \u001b[49m\u001b[43mG\u001b[49m\u001b[43m)\u001b[49m)\n\u001b[1;32m     71\u001b[0m     \u001b[38;5;28;01mdel\u001b[39;00m G\u001b[38;5;241m.\u001b[39mnodes[node][\u001b[38;5;124m'\u001b[39m\u001b[38;5;124moperation\u001b[39m\u001b[38;5;124m'\u001b[39m]\n\u001b[1;32m     72\u001b[0m \u001b[38;5;28;01mexcept\u001b[39;00m \u001b[38;5;167;01mException\u001b[39;00m \u001b[38;5;28;01mas\u001b[39;00m exc:\n",
      "File \u001b[0;32m~/miniconda3/envs/elfi/lib/python3.9/site-packages/elfi/executor.py:158\u001b[0m, in \u001b[0;36mExecutor._run\u001b[0;34m(fn, node, G)\u001b[0m\n\u001b[1;32m    154\u001b[0m         kwargs[param] \u001b[38;5;241m=\u001b[39m output\n\u001b[1;32m    156\u001b[0m args \u001b[38;5;241m=\u001b[39m [a[\u001b[38;5;241m1\u001b[39m] \u001b[38;5;28;01mfor\u001b[39;00m a \u001b[38;5;129;01min\u001b[39;00m \u001b[38;5;28msorted\u001b[39m(args, key\u001b[38;5;241m=\u001b[39mitemgetter(\u001b[38;5;241m0\u001b[39m))]\n\u001b[0;32m--> 158\u001b[0m output_dict \u001b[38;5;241m=\u001b[39m {\u001b[38;5;124m'\u001b[39m\u001b[38;5;124moutput\u001b[39m\u001b[38;5;124m'\u001b[39m: \u001b[43mfn\u001b[49m\u001b[43m(\u001b[49m\u001b[38;5;241;43m*\u001b[39;49m\u001b[43margs\u001b[49m\u001b[43m,\u001b[49m\u001b[43m \u001b[49m\u001b[38;5;241;43m*\u001b[39;49m\u001b[38;5;241;43m*\u001b[39;49m\u001b[43mkwargs\u001b[49m\u001b[43m)\u001b[49m}\n\u001b[1;32m    159\u001b[0m \u001b[38;5;28;01mreturn\u001b[39;00m output_dict\n",
      "File \u001b[0;32m~/Documents/daycare/daycare_new.py:273\u001b[0m, in \u001b[0;36mss_shannon_new\u001b[0;34m(data)\u001b[0m\n\u001b[1;32m    270\u001b[0m     temp[temp \u001b[38;5;241m==\u001b[39m \u001b[38;5;241m0\u001b[39m] \u001b[38;5;241m=\u001b[39m \u001b[38;5;241m1\u001b[39m\n\u001b[1;32m    271\u001b[0m     proportions[dcc] \u001b[38;5;241m=\u001b[39m temp\n\u001b[0;32m--> 273\u001b[0m     \u001b[43mshannon\u001b[49m\u001b[43m[\u001b[49m\u001b[43m:\u001b[49m\u001b[43m,\u001b[49m\u001b[43m \u001b[49m\u001b[43mdcc\u001b[49m\u001b[43m]\u001b[49m \u001b[38;5;241m=\u001b[39m (\u001b[38;5;241m-\u001b[39mnp\u001b[38;5;241m.\u001b[39msum(proportions[dcc] \u001b[38;5;241m*\u001b[39m np\u001b[38;5;241m.\u001b[39mlog(proportions[dcc]), axis\u001b[38;5;241m=\u001b[39m\u001b[38;5;241m2\u001b[39m)) \u001b[38;5;66;03m# (batch_size, 1)\u001b[39;00m\n\u001b[1;32m    275\u001b[0m \u001b[38;5;28;01mreturn\u001b[39;00m shannon\n",
      "\u001b[0;31mValueError\u001b[0m: In executing node 'Shannon': could not broadcast input array from shape (10,1) into shape (10,)."
     ]
    }
   ],
   "source": [
    "result = rej.sample(N, quantile=0.01)"
   ]
  },
  {
   "cell_type": "markdown",
   "id": "31326c98",
   "metadata": {},
   "source": [
    "### Notes from meeting with Henri\n",
    "\n",
    "- generate-method to simulate from model and output by fixing input 'with_values' (dictionary)\n",
    "- seaborn for plotting, plotnine (ggplot for python, good idea to learn early on)\n",
    "- when reading papers, focus on the ways they report results, and how you should present your own results (build a set of tools for this, can create a library that collects a lot of plotting methods)\n",
    "- reuse things that will be reusable!\n",
    "- solve with both bolfi and abc-smc (1000 samples), batch_size=1 for bolfi\n",
    "- look at the distribution prior/posterior predictive of data, discrepancy\n",
    "\n",
    "\n",
    "\n",
    "\n",
    "- set up a repo and share with henri\n",
    "- do vc in VS code or git command line tools\n"
   ]
  },
  {
   "cell_type": "markdown",
   "id": "ad746428",
   "metadata": {},
   "source": []
  }
 ],
 "metadata": {
  "kernelspec": {
   "display_name": "elfi",
   "language": "python",
   "name": "python3"
  },
  "language_info": {
   "codemirror_mode": {
    "name": "ipython",
    "version": 3
   },
   "file_extension": ".py",
   "mimetype": "text/x-python",
   "name": "python",
   "nbconvert_exporter": "python",
   "pygments_lexer": "ipython3",
   "version": "3.9.20"
  }
 },
 "nbformat": 4,
 "nbformat_minor": 5
}
